{
  "nbformat": 4,
  "nbformat_minor": 0,
  "metadata": {
    "colab": {
      "name": "Shortest distance between two sets of numbers in O(n log(n)).ipynb",
      "version": "0.3.2",
      "provenance": [],
      "collapsed_sections": [],
      "include_colab_link": true
    },
    "kernelspec": {
      "name": "python3",
      "display_name": "Python 3"
    }
  },
  "cells": [
    {
      "cell_type": "markdown",
      "metadata": {
        "id": "view-in-github",
        "colab_type": "text"
      },
      "source": [
        "<a href=\"https://colab.research.google.com/github/jeanfcari/fast-nearest-neighbors/blob/master/Algorithm.ipynb\" target=\"_parent\"><img src=\"https://colab.research.google.com/assets/colab-badge.svg\" alt=\"Open In Colab\"/></a>"
      ]
    },
    {
      "metadata": {
        "id": "jyLxng600gu6",
        "colab_type": "code",
        "colab": {}
      },
      "cell_type": "code",
      "source": [
        "import numpy as np\n",
        "import time\n",
        "import matplotlib.pyplot as plt"
      ],
      "execution_count": 0,
      "outputs": []
    },
    {
      "metadata": {
        "id": "gkqmJ5XIXyR_",
        "colab_type": "text"
      },
      "cell_type": "markdown",
      "source": [
        "# Algorithm"
      ]
    },
    {
      "metadata": {
        "id": "GVTkcCR9X5z0",
        "colab_type": "text"
      },
      "cell_type": "markdown",
      "source": [
        "X and Y must be two n length arrays."
      ]
    },
    {
      "metadata": {
        "id": "9B12-pxv0zV5",
        "colab_type": "code",
        "colab": {}
      },
      "cell_type": "code",
      "source": [
        "\n",
        "# Since f: y -> |x-y| is a convex function applied on the non-decreasing sequence Y,\n",
        "# the resulting image is also convex.\n",
        "# Thus,it is possible to use binary search to find the minimal distance in O(log(n))\n",
        "# without having to compute |x-y| for every y in Y.\n",
        "def bottom(x, Y):\n",
        "  \n",
        "    start=time.time()\n",
        "    \n",
        "    lo, hi = 0, len(Y) - 1\n",
        "    \n",
        "    while lo < hi:\n",
        "      \n",
        "        mi = int((lo + hi) / 2)\n",
        "        \n",
        "        if diff(x,Y[mi]) >= diff(x,Y[mi + 1]): lo = mi + 1 \n",
        "        else: hi = mi\n",
        "          \n",
        "    return diff(x,Y[lo]), time.time() - start\n",
        "\n",
        "  \n",
        "# Distance measure\n",
        "def diff(x,y):\n",
        "  return np.abs(x-y)\n",
        "\n",
        "\n",
        "# Fast algorithm\n",
        "def nearest_neighbor(X,Y):\n",
        "  \n",
        "  start = time.time()\n",
        "  \n",
        "  #Efficient sort in O(log(n))\n",
        "  X_sort = sorted(X)\n",
        "  Y_sort = sorted(Y)\n",
        "  \n",
        "  \n",
        "  running_min = np.inf\n",
        "  \n",
        "  #Find closest point for each X, n times\n",
        "  for i in range(len(X_sort)):  \n",
        "    candidate_min, _ =  bottom(X_sort[i],Y_sort)\n",
        "    if candidate_min<running_min: running_min=candidate_min\n",
        "  \n",
        "  return running_min, time.time()-start\n",
        "    \n",
        "      \n",
        "# Trivial solution\n",
        "def naive(X,Y):\n",
        "  \n",
        "    start = time.time()\n",
        "    \n",
        "    running_min = np.inf\n",
        "    for i in range(len(X)):\n",
        "      for j in range((len(Y))):\n",
        "        candidate_min = diff(X[i],Y[j])\n",
        "        if candidate_min<running_min: running_min=candidate_min\n",
        "    \n",
        "    return running_min, time.time()-start\n",
        " "
      ],
      "execution_count": 0,
      "outputs": []
    },
    {
      "metadata": {
        "id": "XXt_lPoQXOK_",
        "colab_type": "text"
      },
      "cell_type": "markdown",
      "source": [
        "# Test"
      ]
    },
    {
      "metadata": {
        "id": "cx6Uzy5E8cSq",
        "colab_type": "code",
        "colab": {}
      },
      "cell_type": "code",
      "source": [
        "naive_times=[]\n",
        "fast_times=[]\n",
        "\n",
        "naive_vals=[]\n",
        "fast_vals=[]\n",
        "\n",
        "for i in range(1,300):\n",
        "  X , Y = np.random.uniform(size=i), np.random.uniform(size=i)\n",
        "  naive_val, naive_time = naive(X,Y)\n",
        "  fast_val , fast_time = nearest_neighbor(X,Y)\n",
        "  \n",
        "  naive_times.append(naive_time)\n",
        "  fast_times.append(fast_time)\n",
        "  \n",
        "  naive_vals.append(naive_val)\n",
        "  fast_vals.append(fast_val)"
      ],
      "execution_count": 0,
      "outputs": []
    },
    {
      "metadata": {
        "id": "9hCgd2hQ9fFd",
        "colab_type": "code",
        "outputId": "ebb775eb-e18b-4c13-be41-0513788a0caf",
        "colab": {
          "base_uri": "https://localhost:8080/",
          "height": 376
        }
      },
      "cell_type": "code",
      "source": [
        "plt.plot(naive_times,label='Naive')\n",
        "plt.plot(fast_times, label='Efficient')\n",
        "plt.xlabel('n')\n",
        "plt.ylabel('secs')\n",
        "plt.title('Time Complexity')\n",
        "plt.show()"
      ],
      "execution_count": 4,
      "outputs": [
        {
          "output_type": "display_data",
          "data": {
            "image/png": "[encoded data removed]",
            "text/plain": [
              "<matplotlib.figure.Figure at 0x7fd56eeb2898>"
            ]
          },
          "metadata": {
            "tags": []
          }
        }
      ]
    },
    {
      "metadata": {
        "id": "oG9LiAYKtYVL",
        "colab_type": "code",
        "outputId": "0f5c9798-b772-4ab5-a52a-a9047b2ecee9",
        "colab": {
          "base_uri": "https://localhost:8080/",
          "height": 35
        }
      },
      "cell_type": "code",
      "source": [
        "sum(naive_vals)==sum(fast_vals)"
      ],
      "execution_count": 5,
      "outputs": [
        {
          "output_type": "execute_result",
          "data": {
            "text/plain": [
              "True"
            ]
          },
          "metadata": {
            "tags": []
          },
          "execution_count": 5
        }
      ]
    }
  ]
}